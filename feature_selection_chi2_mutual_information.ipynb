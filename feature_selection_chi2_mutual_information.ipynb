{
 "cells": [
  {
   "cell_type": "markdown",
   "id": "992dde94",
   "metadata": {},
   "source": [
    "# FEATURE SELECTION IN CATEGORICAL INPUT & CATEGORICAL OUTPUT"
   ]
  },
  {
   "cell_type": "markdown",
   "id": "44da26c3",
   "metadata": {},
   "source": [
    "The two most commonly used feature selection methods for categorical input data when the target variable is also categorical  are the chi-squared statistic and the mutual information statistic. As the basis of this notebook, we will used the Breast cancer dataset, we will evaluate a Logistic Regression model with all features compared to a model built from features selected by chi-squared and those features selected via mutual information.  "
   ]
  },
  {
   "cell_type": "markdown",
   "id": "3c350c4b",
   "metadata": {},
   "source": [
    "## Part 1. Build Model Using All Feature Available"
   ]
  },
  {
   "cell_type": "code",
   "execution_count": 1,
   "id": "bcc488df",
   "metadata": {},
   "outputs": [],
   "source": [
    "import pandas as pd\n",
    "import numpy as np\n",
    "from sklearn.model_selection import train_test_split\n",
    "from sklearn.preprocessing import LabelEncoder\n",
    "from sklearn.preprocessing import OrdinalEncoder\n",
    "from sklearn.model_selection import cross_val_score\n",
    "from sklearn.linear_model import LogisticRegression\n",
    "from sklearn.metrics import confusion_matrix, accuracy_score, f1_score, classification_report"
   ]
  },
  {
   "cell_type": "code",
   "execution_count": 2,
   "id": "bd2d99b1",
   "metadata": {},
   "outputs": [
    {
     "data": {
      "text/html": [
       "<div>\n",
       "<style scoped>\n",
       "    .dataframe tbody tr th:only-of-type {\n",
       "        vertical-align: middle;\n",
       "    }\n",
       "\n",
       "    .dataframe tbody tr th {\n",
       "        vertical-align: top;\n",
       "    }\n",
       "\n",
       "    .dataframe thead th {\n",
       "        text-align: right;\n",
       "    }\n",
       "</style>\n",
       "<table border=\"1\" class=\"dataframe\">\n",
       "  <thead>\n",
       "    <tr style=\"text-align: right;\">\n",
       "      <th></th>\n",
       "      <th>0</th>\n",
       "      <th>1</th>\n",
       "      <th>2</th>\n",
       "      <th>3</th>\n",
       "      <th>4</th>\n",
       "      <th>5</th>\n",
       "      <th>6</th>\n",
       "      <th>7</th>\n",
       "      <th>8</th>\n",
       "      <th>9</th>\n",
       "    </tr>\n",
       "  </thead>\n",
       "  <tbody>\n",
       "    <tr>\n",
       "      <th>0</th>\n",
       "      <td>'40-49'</td>\n",
       "      <td>'premeno'</td>\n",
       "      <td>'15-19'</td>\n",
       "      <td>'0-2'</td>\n",
       "      <td>'yes'</td>\n",
       "      <td>'3'</td>\n",
       "      <td>'right'</td>\n",
       "      <td>'left_up'</td>\n",
       "      <td>'no'</td>\n",
       "      <td>'recurrence-events'</td>\n",
       "    </tr>\n",
       "    <tr>\n",
       "      <th>1</th>\n",
       "      <td>'50-59'</td>\n",
       "      <td>'ge40'</td>\n",
       "      <td>'15-19'</td>\n",
       "      <td>'0-2'</td>\n",
       "      <td>'no'</td>\n",
       "      <td>'1'</td>\n",
       "      <td>'right'</td>\n",
       "      <td>'central'</td>\n",
       "      <td>'no'</td>\n",
       "      <td>'no-recurrence-events'</td>\n",
       "    </tr>\n",
       "    <tr>\n",
       "      <th>2</th>\n",
       "      <td>'50-59'</td>\n",
       "      <td>'ge40'</td>\n",
       "      <td>'35-39'</td>\n",
       "      <td>'0-2'</td>\n",
       "      <td>'no'</td>\n",
       "      <td>'2'</td>\n",
       "      <td>'left'</td>\n",
       "      <td>'left_low'</td>\n",
       "      <td>'no'</td>\n",
       "      <td>'recurrence-events'</td>\n",
       "    </tr>\n",
       "    <tr>\n",
       "      <th>3</th>\n",
       "      <td>'40-49'</td>\n",
       "      <td>'premeno'</td>\n",
       "      <td>'35-39'</td>\n",
       "      <td>'0-2'</td>\n",
       "      <td>'yes'</td>\n",
       "      <td>'3'</td>\n",
       "      <td>'right'</td>\n",
       "      <td>'left_low'</td>\n",
       "      <td>'yes'</td>\n",
       "      <td>'no-recurrence-events'</td>\n",
       "    </tr>\n",
       "    <tr>\n",
       "      <th>4</th>\n",
       "      <td>'40-49'</td>\n",
       "      <td>'premeno'</td>\n",
       "      <td>'30-34'</td>\n",
       "      <td>'3-5'</td>\n",
       "      <td>'yes'</td>\n",
       "      <td>'2'</td>\n",
       "      <td>'left'</td>\n",
       "      <td>'right_up'</td>\n",
       "      <td>'no'</td>\n",
       "      <td>'recurrence-events'</td>\n",
       "    </tr>\n",
       "  </tbody>\n",
       "</table>\n",
       "</div>"
      ],
      "text/plain": [
       "         0          1        2      3      4    5        6           7      8  \\\n",
       "0  '40-49'  'premeno'  '15-19'  '0-2'  'yes'  '3'  'right'   'left_up'   'no'   \n",
       "1  '50-59'     'ge40'  '15-19'  '0-2'   'no'  '1'  'right'   'central'   'no'   \n",
       "2  '50-59'     'ge40'  '35-39'  '0-2'   'no'  '2'   'left'  'left_low'   'no'   \n",
       "3  '40-49'  'premeno'  '35-39'  '0-2'  'yes'  '3'  'right'  'left_low'  'yes'   \n",
       "4  '40-49'  'premeno'  '30-34'  '3-5'  'yes'  '2'   'left'  'right_up'   'no'   \n",
       "\n",
       "                        9  \n",
       "0     'recurrence-events'  \n",
       "1  'no-recurrence-events'  \n",
       "2     'recurrence-events'  \n",
       "3  'no-recurrence-events'  \n",
       "4     'recurrence-events'  "
      ]
     },
     "execution_count": 2,
     "metadata": {},
     "output_type": "execute_result"
    }
   ],
   "source": [
    "df = pd.read_csv('https://raw.githubusercontent.com/jbrownlee/Datasets/master/breast-cancer.csv', header=None)\n",
    "df.head()"
   ]
  },
  {
   "cell_type": "code",
   "execution_count": 3,
   "id": "b00c9002",
   "metadata": {},
   "outputs": [
    {
     "name": "stdout",
     "output_type": "stream",
     "text": [
      "<class 'pandas.core.frame.DataFrame'>\n",
      "RangeIndex: 286 entries, 0 to 285\n",
      "Data columns (total 10 columns):\n",
      " #   Column  Non-Null Count  Dtype \n",
      "---  ------  --------------  ----- \n",
      " 0   0       286 non-null    object\n",
      " 1   1       286 non-null    object\n",
      " 2   2       286 non-null    object\n",
      " 3   3       286 non-null    object\n",
      " 4   4       278 non-null    object\n",
      " 5   5       286 non-null    object\n",
      " 6   6       286 non-null    object\n",
      " 7   7       285 non-null    object\n",
      " 8   8       286 non-null    object\n",
      " 9   9       286 non-null    object\n",
      "dtypes: object(10)\n",
      "memory usage: 22.5+ KB\n"
     ]
    }
   ],
   "source": [
    "df.info()"
   ]
  },
  {
   "cell_type": "code",
   "execution_count": 4,
   "id": "d797782a",
   "metadata": {},
   "outputs": [],
   "source": [
    "data = df.values\n",
    "X,y = data[:, :-1], data[:,-1]\n",
    "X = X.astype(str)"
   ]
  },
  {
   "cell_type": "code",
   "execution_count": 5,
   "id": "2449d30c",
   "metadata": {},
   "outputs": [],
   "source": [
    "X_train, X_test, y_train, y_test = train_test_split(X,y, test_size=0.3, random_state=1)"
   ]
  },
  {
   "cell_type": "code",
   "execution_count": 6,
   "id": "29b21dd1",
   "metadata": {},
   "outputs": [],
   "source": [
    "oe = OrdinalEncoder()\n",
    "oe.fit(X_train)\n",
    "X_train_oe = oe.transform(X_train)\n",
    "X_test_oe = oe.transform(X_test)"
   ]
  },
  {
   "cell_type": "code",
   "execution_count": 7,
   "id": "e571c727",
   "metadata": {},
   "outputs": [],
   "source": [
    "le = LabelEncoder()\n",
    "le.fit(y_train)\n",
    "y_train_le = le.transform(y_train)\n",
    "y_test_le = le.transform(y_test)"
   ]
  },
  {
   "cell_type": "code",
   "execution_count": 8,
   "id": "19929188",
   "metadata": {},
   "outputs": [],
   "source": [
    "model = LogisticRegression(solver='lbfgs')\n",
    "model.fit(X_train_oe, y_train_le)\n",
    "ypred = model.predict(X_test_oe)"
   ]
  },
  {
   "cell_type": "code",
   "execution_count": 9,
   "id": "2dfb825c",
   "metadata": {},
   "outputs": [
    {
     "name": "stdout",
     "output_type": "stream",
     "text": [
      "Model Accuracy: 72.09%\n",
      "Cross val accuracy: 75.00%\n",
      "cross val std: 2.24%\n",
      "              precision    recall  f1-score   support\n",
      "\n",
      "           0       0.98      0.70      0.82        76\n",
      "           1       0.28      0.90      0.43        10\n",
      "\n",
      "    accuracy                           0.72        86\n",
      "   macro avg       0.63      0.80      0.62        86\n",
      "weighted avg       0.90      0.72      0.77        86\n",
      "\n"
     ]
    }
   ],
   "source": [
    "print(f'Model Accuracy: {accuracy_score(ypred, y_test_le)*100:.2f}%')\n",
    "accuracies = cross_val_score(estimator=model, X=X_train_oe, y=y_train_le, cv=5)\n",
    "print('Cross val accuracy: {:.2f}%'.format(accuracies.mean()*100))\n",
    "print('cross val std: {:.2f}%'.format(accuracies.std()*100))\n",
    "print(classification_report(ypred, y_test_le, zero_division=1))"
   ]
  },
  {
   "cell_type": "markdown",
   "id": "1c6fbb8d",
   "metadata": {},
   "source": [
    "In this model, we can see that the model achieves a classication accuracy of about 72 percent and cross val accuracy 75 percent. Maybe we can use a subset of features that achieves a classication accuracy that is as good or better than this."
   ]
  },
  {
   "cell_type": "markdown",
   "id": "252a5248",
   "metadata": {},
   "source": [
    "## Part 2. Build Model With Feature Selection Using Chi Squared"
   ]
  },
  {
   "cell_type": "code",
   "execution_count": 10,
   "id": "67f91898",
   "metadata": {},
   "outputs": [],
   "source": [
    "from matplotlib import pyplot\n",
    "from sklearn.feature_selection import SelectKBest\n",
    "from sklearn.feature_selection import chi2"
   ]
  },
  {
   "cell_type": "code",
   "execution_count": 29,
   "id": "45c86d5b",
   "metadata": {},
   "outputs": [],
   "source": [
    "fs = SelectKBest(score_func=chi2, k=4)\n",
    "fs.fit(X_train_oe, y_train_le)\n",
    "X_train_chi = fs.transform(X_train_oe)\n",
    "X_test_chi = fs.transform(X_test_oe)"
   ]
  },
  {
   "cell_type": "code",
   "execution_count": 12,
   "id": "e765a88e",
   "metadata": {},
   "outputs": [
    {
     "name": "stdout",
     "output_type": "stream",
     "text": [
      "feature 0: 0.440485\n",
      "feature 1: 0.000029\n",
      "feature 2: 2.153418\n",
      "feature 3: 33.360902\n",
      "feature 4: 7.179804\n",
      "feature 5: 9.153969\n",
      "feature 6: 1.191119\n",
      "feature 7: 0.869278\n",
      "feature 8: 4.233666\n"
     ]
    }
   ],
   "source": [
    "for i in range(len(fs.scores_)):\n",
    "    print('feature %d: %f' % (i, fs.scores_[i]))"
   ]
  },
  {
   "cell_type": "code",
   "execution_count": 13,
   "id": "7234a9c9",
   "metadata": {},
   "outputs": [
    {
     "data": {
      "image/png": "[encoded data removed]",
      "text/plain": [
       "<Figure size 432x288 with 1 Axes>"
      ]
     },
     "metadata": {
      "needs_background": "light"
     },
     "output_type": "display_data"
    }
   ],
   "source": [
    "pyplot.bar([i for i in range(len(fs.scores_))], fs.scores_)\n",
    "pyplot.show()"
   ]
  },
  {
   "cell_type": "code",
   "execution_count": 30,
   "id": "e7d14d32",
   "metadata": {},
   "outputs": [],
   "source": [
    "model = LogisticRegression(solver='lbfgs')\n",
    "model.fit(X_train_chi, y_train_le)\n",
    "y_pred = model.predict(X_test_chi)"
   ]
  },
  {
   "cell_type": "code",
   "execution_count": 31,
   "id": "77b4e2b4",
   "metadata": {},
   "outputs": [
    {
     "name": "stdout",
     "output_type": "stream",
     "text": [
      "Model Accuracy: 73.26%\n",
      "Cross val accuracy: 75.00%\n",
      "cross val std: 4.18%\n",
      "              precision    recall  f1-score   support\n",
      "\n",
      "           0       1.00      0.70      0.82        77\n",
      "           1       0.28      1.00      0.44         9\n",
      "\n",
      "    accuracy                           0.73        86\n",
      "   macro avg       0.64      0.85      0.63        86\n",
      "weighted avg       0.92      0.73      0.78        86\n",
      "\n"
     ]
    }
   ],
   "source": [
    "print(f'Model Accuracy: {accuracy_score(y_pred, y_test_le)*100:.2f}%')\n",
    "accuracies = cross_val_score(estimator=model, X=X_train_chi, y=y_train_le, cv=5)\n",
    "print('Cross val accuracy: {:.2f}%'.format(accuracies.mean()*100))\n",
    "print('cross val std: {:.2f}%'.format(accuracies.std()*100))\n",
    "print(classification_report(y_pred, y_test_le, zero_division=1))"
   ]
  },
  {
   "cell_type": "markdown",
   "id": "a337a225",
   "metadata": {},
   "source": [
    "In this model reports performance just four of the nine input features selected using the chi-squared statistic. We see that the model achieved an accuracy of about 73.26 percent and cross val accuracy same with model before about 75 percent, a slight up in performance"
   ]
  },
  {
   "cell_type": "markdown",
   "id": "332457c6",
   "metadata": {},
   "source": [
    "## Part 3. Build Model With Feature Selection Using Mutual Information"
   ]
  },
  {
   "cell_type": "code",
   "execution_count": 37,
   "id": "5acaca93",
   "metadata": {},
   "outputs": [],
   "source": [
    "from sklearn.feature_selection import mutual_info_classif\n",
    "fs = SelectKBest(score_func=mutual_info_classif, k=6)\n",
    "fs.fit(X_train_oe, y_train_le)\n",
    "X_train_mi = fs.transform(X_train_oe)\n",
    "X_test_mi = fs.transform(X_test_oe)"
   ]
  },
  {
   "cell_type": "code",
   "execution_count": 38,
   "id": "ba5770cc",
   "metadata": {},
   "outputs": [
    {
     "name": "stdout",
     "output_type": "stream",
     "text": [
      "feature 0: 0.000000\n",
      "feature 1: 0.023623\n",
      "feature 2: 0.043372\n",
      "feature 3: 0.067822\n",
      "feature 4: 0.021120\n",
      "feature 5: 0.030432\n",
      "feature 6: 0.019427\n",
      "feature 7: 0.039093\n",
      "feature 8: 0.076698\n"
     ]
    }
   ],
   "source": [
    "for i in range(len(fs.scores_)):\n",
    "    print('feature %d: %f' % (i, fs.scores_[i]))"
   ]
  },
  {
   "cell_type": "code",
   "execution_count": 39,
   "id": "b0971836",
   "metadata": {},
   "outputs": [
    {
     "data": {
      "image/png": "[encoded data removed]",
      "text/plain": [
       "<Figure size 432x288 with 1 Axes>"
      ]
     },
     "metadata": {
      "needs_background": "light"
     },
     "output_type": "display_data"
    }
   ],
   "source": [
    "pyplot.bar([i for i in range(len(fs.scores_))], fs.scores_)\n",
    "pyplot.show()"
   ]
  },
  {
   "cell_type": "code",
   "execution_count": 40,
   "id": "8f4a2158",
   "metadata": {},
   "outputs": [],
   "source": [
    "model = LogisticRegression(solver='lbfgs')\n",
    "model.fit(X_train_mi, y_train_le)\n",
    "y_pred = model.predict(X_test_mi)"
   ]
  },
  {
   "cell_type": "code",
   "execution_count": 41,
   "id": "118203eb",
   "metadata": {},
   "outputs": [
    {
     "name": "stdout",
     "output_type": "stream",
     "text": [
      "Model Accuracy: 75.58%\n",
      "Cross val accuracy: 74.00%\n",
      "cross val std: 3.39%\n",
      "              precision    recall  f1-score   support\n",
      "\n",
      "           0       1.00      0.72      0.84        75\n",
      "           1       0.34      1.00      0.51        11\n",
      "\n",
      "    accuracy                           0.76        86\n",
      "   macro avg       0.67      0.86      0.67        86\n",
      "weighted avg       0.92      0.76      0.80        86\n",
      "\n"
     ]
    }
   ],
   "source": [
    "print(f'Model Accuracy: {accuracy_score(y_pred, y_test_le)*100:.2f}%')\n",
    "accuracies = cross_val_score(estimator=model, X=X_train_mi, y=y_train_le, cv=5)\n",
    "print('Cross val accuracy: {:.2f}%'.format(accuracies.mean()*100))\n",
    "print('cross val std: {:.2f}%'.format(accuracies.std()*100))\n",
    "print(classification_report(y_pred, y_test_le, zero_division=1))"
   ]
  },
  {
   "cell_type": "markdown",
   "id": "53affe47",
   "metadata": {},
   "source": [
    "In this model reports performance just six of the nine input features selected using the mutual information statistic. We see that the model achieved an accuracy of about 75 percent and a little drop cross val accuracy about 74 percent. "
   ]
  },
  {
   "cell_type": "markdown",
   "id": "4c3ffb00",
   "metadata": {},
   "source": [
    "#  Conclusion"
   ]
  },
  {
   "cell_type": "markdown",
   "id": "a4e9b93b",
   "metadata": {},
   "source": [
    "After comparing the results of the three models we get better performance when not use all of the input features but just the most relevant feature to target"
   ]
  }
 ],
 "metadata": {
  "kernelspec": {
   "display_name": "Python 3 (ipykernel)",
   "language": "python",
   "name": "python3"
  },
  "language_info": {
   "codemirror_mode": {
    "name": "ipython",
    "version": 3
   },
   "file_extension": ".py",
   "mimetype": "text/x-python",
   "name": "python",
   "nbconvert_exporter": "python",
   "pygments_lexer": "ipython3",
   "version": "3.8.13"
  }
 },
 "nbformat": 4,
 "nbformat_minor": 5
}
