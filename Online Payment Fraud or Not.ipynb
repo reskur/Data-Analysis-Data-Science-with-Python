{
 "cells": [
  {
   "cell_type": "markdown",
   "id": "94cc056f",
   "metadata": {},
   "source": [
    "# Online Payments Fraud Detection with Machine Learning\n",
    "Online payment frauds can happen with anyone using any payment system, especially while making payments using a credit card. That is why detecting online payment fraud is very important for credit card companies to ensure that the customers are not getting charged for the products and services they never paid"
   ]
  },
  {
   "cell_type": "markdown",
   "id": "161c7d85",
   "metadata": {},
   "source": [
    "# Importing Libraries"
   ]
  },
  {
   "cell_type": "code",
   "execution_count": 138,
   "id": "8409ed40",
   "metadata": {},
   "outputs": [],
   "source": [
    "import pandas as pd\n",
    "import numpy as np\n",
    "import seaborn as sns\n",
    "import matplotlib.pyplot as plt\n",
    "from sklearn.model_selection import train_test_split\n",
    "from sklearn.tree import DecisionTreeClassifier"
   ]
  },
  {
   "cell_type": "markdown",
   "id": "f52e1287",
   "metadata": {},
   "source": [
    "# Read Data\n",
    "1. step: represents a unit of time where 1 step equals 1 hour\n",
    "2. type: type of online transaction\n",
    "3. amount: the amount of the transaction\n",
    "4. nameOrig: customer starting the transaction\n",
    "5. oldbalanceOrg: balance before the transaction\n",
    "6. newbalanceOrig: balance after the transaction\n",
    "7. nameDest: recipient of the transaction\n",
    "8. oldbalanceDest: initial balance of recipient before the transaction\n",
    "9. newbalanceDest: the new balance of recipient after the transaction\n",
    "10. isFraud: fraud transaction"
   ]
  },
  {
   "cell_type": "code",
   "execution_count": 139,
   "id": "e0d28f6a",
   "metadata": {},
   "outputs": [
    {
     "data": {
      "text/html": [
       "<div>\n",
       "<style scoped>\n",
       "    .dataframe tbody tr th:only-of-type {\n",
       "        vertical-align: middle;\n",
       "    }\n",
       "\n",
       "    .dataframe tbody tr th {\n",
       "        vertical-align: top;\n",
       "    }\n",
       "\n",
       "    .dataframe thead th {\n",
       "        text-align: right;\n",
       "    }\n",
       "</style>\n",
       "<table border=\"1\" class=\"dataframe\">\n",
       "  <thead>\n",
       "    <tr style=\"text-align: right;\">\n",
       "      <th></th>\n",
       "      <th>step</th>\n",
       "      <th>type</th>\n",
       "      <th>amount</th>\n",
       "      <th>nameOrig</th>\n",
       "      <th>oldbalanceOrg</th>\n",
       "      <th>newbalanceOrig</th>\n",
       "      <th>nameDest</th>\n",
       "      <th>oldbalanceDest</th>\n",
       "      <th>newbalanceDest</th>\n",
       "      <th>isFraud</th>\n",
       "      <th>isFlaggedFraud</th>\n",
       "    </tr>\n",
       "  </thead>\n",
       "  <tbody>\n",
       "    <tr>\n",
       "      <th>0</th>\n",
       "      <td>1</td>\n",
       "      <td>PAYMENT</td>\n",
       "      <td>9,839.64</td>\n",
       "      <td>C1231006815</td>\n",
       "      <td>170,136.00</td>\n",
       "      <td>160,296.36</td>\n",
       "      <td>M1979787155</td>\n",
       "      <td>0.00</td>\n",
       "      <td>0.00</td>\n",
       "      <td>0</td>\n",
       "      <td>0</td>\n",
       "    </tr>\n",
       "    <tr>\n",
       "      <th>1</th>\n",
       "      <td>1</td>\n",
       "      <td>PAYMENT</td>\n",
       "      <td>1,864.28</td>\n",
       "      <td>C1666544295</td>\n",
       "      <td>21,249.00</td>\n",
       "      <td>19,384.72</td>\n",
       "      <td>M2044282225</td>\n",
       "      <td>0.00</td>\n",
       "      <td>0.00</td>\n",
       "      <td>0</td>\n",
       "      <td>0</td>\n",
       "    </tr>\n",
       "    <tr>\n",
       "      <th>2</th>\n",
       "      <td>1</td>\n",
       "      <td>TRANSFER</td>\n",
       "      <td>181.00</td>\n",
       "      <td>C1305486145</td>\n",
       "      <td>181.00</td>\n",
       "      <td>0.00</td>\n",
       "      <td>C553264065</td>\n",
       "      <td>0.00</td>\n",
       "      <td>0.00</td>\n",
       "      <td>1</td>\n",
       "      <td>0</td>\n",
       "    </tr>\n",
       "    <tr>\n",
       "      <th>3</th>\n",
       "      <td>1</td>\n",
       "      <td>CASH_OUT</td>\n",
       "      <td>181.00</td>\n",
       "      <td>C840083671</td>\n",
       "      <td>181.00</td>\n",
       "      <td>0.00</td>\n",
       "      <td>C38997010</td>\n",
       "      <td>21,182.00</td>\n",
       "      <td>0.00</td>\n",
       "      <td>1</td>\n",
       "      <td>0</td>\n",
       "    </tr>\n",
       "    <tr>\n",
       "      <th>4</th>\n",
       "      <td>1</td>\n",
       "      <td>PAYMENT</td>\n",
       "      <td>11,668.14</td>\n",
       "      <td>C2048537720</td>\n",
       "      <td>41,554.00</td>\n",
       "      <td>29,885.86</td>\n",
       "      <td>M1230701703</td>\n",
       "      <td>0.00</td>\n",
       "      <td>0.00</td>\n",
       "      <td>0</td>\n",
       "      <td>0</td>\n",
       "    </tr>\n",
       "    <tr>\n",
       "      <th>5</th>\n",
       "      <td>1</td>\n",
       "      <td>PAYMENT</td>\n",
       "      <td>7,817.71</td>\n",
       "      <td>C90045638</td>\n",
       "      <td>53,860.00</td>\n",
       "      <td>46,042.29</td>\n",
       "      <td>M573487274</td>\n",
       "      <td>0.00</td>\n",
       "      <td>0.00</td>\n",
       "      <td>0</td>\n",
       "      <td>0</td>\n",
       "    </tr>\n",
       "    <tr>\n",
       "      <th>6</th>\n",
       "      <td>1</td>\n",
       "      <td>PAYMENT</td>\n",
       "      <td>7,107.77</td>\n",
       "      <td>C154988899</td>\n",
       "      <td>183,195.00</td>\n",
       "      <td>176,087.23</td>\n",
       "      <td>M408069119</td>\n",
       "      <td>0.00</td>\n",
       "      <td>0.00</td>\n",
       "      <td>0</td>\n",
       "      <td>0</td>\n",
       "    </tr>\n",
       "    <tr>\n",
       "      <th>7</th>\n",
       "      <td>1</td>\n",
       "      <td>PAYMENT</td>\n",
       "      <td>7,861.64</td>\n",
       "      <td>C1912850431</td>\n",
       "      <td>176,087.23</td>\n",
       "      <td>168,225.59</td>\n",
       "      <td>M633326333</td>\n",
       "      <td>0.00</td>\n",
       "      <td>0.00</td>\n",
       "      <td>0</td>\n",
       "      <td>0</td>\n",
       "    </tr>\n",
       "    <tr>\n",
       "      <th>8</th>\n",
       "      <td>1</td>\n",
       "      <td>PAYMENT</td>\n",
       "      <td>4,024.36</td>\n",
       "      <td>C1265012928</td>\n",
       "      <td>2,671.00</td>\n",
       "      <td>0.00</td>\n",
       "      <td>M1176932104</td>\n",
       "      <td>0.00</td>\n",
       "      <td>0.00</td>\n",
       "      <td>0</td>\n",
       "      <td>0</td>\n",
       "    </tr>\n",
       "    <tr>\n",
       "      <th>9</th>\n",
       "      <td>1</td>\n",
       "      <td>DEBIT</td>\n",
       "      <td>5,337.77</td>\n",
       "      <td>C712410124</td>\n",
       "      <td>41,720.00</td>\n",
       "      <td>36,382.23</td>\n",
       "      <td>C195600860</td>\n",
       "      <td>41,898.00</td>\n",
       "      <td>40,348.79</td>\n",
       "      <td>0</td>\n",
       "      <td>0</td>\n",
       "    </tr>\n",
       "  </tbody>\n",
       "</table>\n",
       "</div>"
      ],
      "text/plain": [
       "   step      type    amount     nameOrig  oldbalanceOrg  newbalanceOrig  \\\n",
       "0     1   PAYMENT  9,839.64  C1231006815     170,136.00      160,296.36   \n",
       "1     1   PAYMENT  1,864.28  C1666544295      21,249.00       19,384.72   \n",
       "2     1  TRANSFER    181.00  C1305486145         181.00            0.00   \n",
       "3     1  CASH_OUT    181.00   C840083671         181.00            0.00   \n",
       "4     1   PAYMENT 11,668.14  C2048537720      41,554.00       29,885.86   \n",
       "5     1   PAYMENT  7,817.71    C90045638      53,860.00       46,042.29   \n",
       "6     1   PAYMENT  7,107.77   C154988899     183,195.00      176,087.23   \n",
       "7     1   PAYMENT  7,861.64  C1912850431     176,087.23      168,225.59   \n",
       "8     1   PAYMENT  4,024.36  C1265012928       2,671.00            0.00   \n",
       "9     1     DEBIT  5,337.77   C712410124      41,720.00       36,382.23   \n",
       "\n",
       "      nameDest  oldbalanceDest  newbalanceDest  isFraud  isFlaggedFraud  \n",
       "0  M1979787155            0.00            0.00        0               0  \n",
       "1  M2044282225            0.00            0.00        0               0  \n",
       "2   C553264065            0.00            0.00        1               0  \n",
       "3    C38997010       21,182.00            0.00        1               0  \n",
       "4  M1230701703            0.00            0.00        0               0  \n",
       "5   M573487274            0.00            0.00        0               0  \n",
       "6   M408069119            0.00            0.00        0               0  \n",
       "7   M633326333            0.00            0.00        0               0  \n",
       "8  M1176932104            0.00            0.00        0               0  \n",
       "9   C195600860       41,898.00       40,348.79        0               0  "
      ]
     },
     "execution_count": 139,
     "metadata": {},
     "output_type": "execute_result"
    }
   ],
   "source": [
    "data = pd.read_csv('C:/Users/Reskur/Documents/Python/DS_project/fraud_ds.csv', skipinitialspace=True, nrows=500000)\n",
    "data.head(10)"
   ]
  },
  {
   "cell_type": "code",
   "execution_count": 140,
   "id": "b7ec3e0c",
   "metadata": {},
   "outputs": [
    {
     "data": {
      "text/plain": [
       "(500000, 11)"
      ]
     },
     "execution_count": 140,
     "metadata": {},
     "output_type": "execute_result"
    }
   ],
   "source": [
    "data.shape"
   ]
  },
  {
   "cell_type": "code",
   "execution_count": 141,
   "id": "0cf6375a",
   "metadata": {},
   "outputs": [
    {
     "name": "stdout",
     "output_type": "stream",
     "text": [
      "<class 'pandas.core.frame.DataFrame'>\n",
      "RangeIndex: 500000 entries, 0 to 499999\n",
      "Data columns (total 11 columns):\n",
      " #   Column          Non-Null Count   Dtype  \n",
      "---  ------          --------------   -----  \n",
      " 0   step            500000 non-null  int64  \n",
      " 1   type            500000 non-null  object \n",
      " 2   amount          500000 non-null  float64\n",
      " 3   nameOrig        500000 non-null  object \n",
      " 4   oldbalanceOrg   500000 non-null  float64\n",
      " 5   newbalanceOrig  500000 non-null  float64\n",
      " 6   nameDest        500000 non-null  object \n",
      " 7   oldbalanceDest  500000 non-null  float64\n",
      " 8   newbalanceDest  500000 non-null  float64\n",
      " 9   isFraud         500000 non-null  int64  \n",
      " 10  isFlaggedFraud  500000 non-null  int64  \n",
      "dtypes: float64(5), int64(3), object(3)\n",
      "memory usage: 42.0+ MB\n"
     ]
    }
   ],
   "source": [
    "data.info()"
   ]
  },
  {
   "cell_type": "code",
   "execution_count": 142,
   "id": "c50ae76b",
   "metadata": {},
   "outputs": [
    {
     "data": {
      "text/plain": [
       "step                  20\n",
       "type                   5\n",
       "amount            491657\n",
       "nameOrig          499953\n",
       "oldbalanceOrg     229742\n",
       "newbalanceOrig    225017\n",
       "nameDest          214856\n",
       "oldbalanceDest    292284\n",
       "newbalanceDest    168174\n",
       "isFraud                2\n",
       "isFlaggedFraud         1\n",
       "dtype: int64"
      ]
     },
     "execution_count": 142,
     "metadata": {},
     "output_type": "execute_result"
    }
   ],
   "source": [
    "data.nunique()"
   ]
  },
  {
   "cell_type": "code",
   "execution_count": 143,
   "id": "67c836f0",
   "metadata": {},
   "outputs": [
    {
     "data": {
      "text/html": [
       "<style type=\"text/css\">\n",
       "#T_1d206_row0_col0, #T_1d206_row0_col6, #T_1d206_row0_col7, #T_1d206_row7_col1, #T_1d206_row7_col2, #T_1d206_row7_col3, #T_1d206_row7_col4, #T_1d206_row7_col5 {\n",
       "  background-color: #023858;\n",
       "  color: #f1f1f1;\n",
       "}\n",
       "#T_1d206_row0_col1 {\n",
       "  background-color: #f8f1f8;\n",
       "  color: #000000;\n",
       "}\n",
       "#T_1d206_row0_col2, #T_1d206_row0_col3, #T_1d206_row0_col4, #T_1d206_row0_col5, #T_1d206_row1_col1 {\n",
       "  background-color: #fdf5fa;\n",
       "  color: #000000;\n",
       "}\n",
       "#T_1d206_row1_col0, #T_1d206_row1_col6, #T_1d206_row1_col7, #T_1d206_row2_col0, #T_1d206_row2_col6, #T_1d206_row2_col7, #T_1d206_row3_col0, #T_1d206_row3_col1, #T_1d206_row3_col2, #T_1d206_row3_col3, #T_1d206_row3_col4, #T_1d206_row3_col5, #T_1d206_row3_col6, #T_1d206_row3_col7, #T_1d206_row4_col0, #T_1d206_row4_col1, #T_1d206_row4_col2, #T_1d206_row4_col3, #T_1d206_row4_col4, #T_1d206_row4_col5, #T_1d206_row4_col6, #T_1d206_row4_col7, #T_1d206_row5_col0, #T_1d206_row5_col2, #T_1d206_row5_col3, #T_1d206_row5_col4, #T_1d206_row5_col6, #T_1d206_row5_col7, #T_1d206_row6_col0, #T_1d206_row6_col6, #T_1d206_row6_col7, #T_1d206_row7_col0, #T_1d206_row7_col6, #T_1d206_row7_col7 {\n",
       "  background-color: #fff7fb;\n",
       "  color: #000000;\n",
       "}\n",
       "#T_1d206_row1_col2, #T_1d206_row6_col1, #T_1d206_row6_col4 {\n",
       "  background-color: #fcf4fa;\n",
       "  color: #000000;\n",
       "}\n",
       "#T_1d206_row1_col3, #T_1d206_row1_col4, #T_1d206_row2_col1 {\n",
       "  background-color: #fbf4f9;\n",
       "  color: #000000;\n",
       "}\n",
       "#T_1d206_row1_col5, #T_1d206_row6_col5 {\n",
       "  background-color: #fbf3f9;\n",
       "  color: #000000;\n",
       "}\n",
       "#T_1d206_row2_col2 {\n",
       "  background-color: #f4edf6;\n",
       "  color: #000000;\n",
       "}\n",
       "#T_1d206_row2_col3 {\n",
       "  background-color: #f3edf5;\n",
       "  color: #000000;\n",
       "}\n",
       "#T_1d206_row2_col4 {\n",
       "  background-color: #f7f0f7;\n",
       "  color: #000000;\n",
       "}\n",
       "#T_1d206_row2_col5 {\n",
       "  background-color: #f6eff7;\n",
       "  color: #000000;\n",
       "}\n",
       "#T_1d206_row5_col1 {\n",
       "  background-color: #fef6fa;\n",
       "  color: #000000;\n",
       "}\n",
       "#T_1d206_row5_col5, #T_1d206_row6_col2, #T_1d206_row6_col3 {\n",
       "  background-color: #fef6fb;\n",
       "  color: #000000;\n",
       "}\n",
       "</style>\n",
       "<table id=\"T_1d206\">\n",
       "  <thead>\n",
       "    <tr>\n",
       "      <th class=\"blank level0\" >&nbsp;</th>\n",
       "      <th id=\"T_1d206_level0_col0\" class=\"col_heading level0 col0\" >step</th>\n",
       "      <th id=\"T_1d206_level0_col1\" class=\"col_heading level0 col1\" >amount</th>\n",
       "      <th id=\"T_1d206_level0_col2\" class=\"col_heading level0 col2\" >oldbalanceOrg</th>\n",
       "      <th id=\"T_1d206_level0_col3\" class=\"col_heading level0 col3\" >newbalanceOrig</th>\n",
       "      <th id=\"T_1d206_level0_col4\" class=\"col_heading level0 col4\" >oldbalanceDest</th>\n",
       "      <th id=\"T_1d206_level0_col5\" class=\"col_heading level0 col5\" >newbalanceDest</th>\n",
       "      <th id=\"T_1d206_level0_col6\" class=\"col_heading level0 col6\" >isFraud</th>\n",
       "      <th id=\"T_1d206_level0_col7\" class=\"col_heading level0 col7\" >isFlaggedFraud</th>\n",
       "    </tr>\n",
       "  </thead>\n",
       "  <tbody>\n",
       "    <tr>\n",
       "      <th id=\"T_1d206_level0_row0\" class=\"row_heading level0 row0\" >count</th>\n",
       "      <td id=\"T_1d206_row0_col0\" class=\"data row0 col0\" >500000.000000</td>\n",
       "      <td id=\"T_1d206_row0_col1\" class=\"data row0 col1\" >500000.000000</td>\n",
       "      <td id=\"T_1d206_row0_col2\" class=\"data row0 col2\" >500000.000000</td>\n",
       "      <td id=\"T_1d206_row0_col3\" class=\"data row0 col3\" >500000.000000</td>\n",
       "      <td id=\"T_1d206_row0_col4\" class=\"data row0 col4\" >500000.000000</td>\n",
       "      <td id=\"T_1d206_row0_col5\" class=\"data row0 col5\" >500000.000000</td>\n",
       "      <td id=\"T_1d206_row0_col6\" class=\"data row0 col6\" >500000.000000</td>\n",
       "      <td id=\"T_1d206_row0_col7\" class=\"data row0 col7\" >500000.000000</td>\n",
       "    </tr>\n",
       "    <tr>\n",
       "      <th id=\"T_1d206_level0_row1\" class=\"row_heading level0 row1\" >mean</th>\n",
       "      <td id=\"T_1d206_row1_col0\" class=\"data row1 col0\" >13.906728</td>\n",
       "      <td id=\"T_1d206_row1_col1\" class=\"data row1 col1\" >166393.688002</td>\n",
       "      <td id=\"T_1d206_row1_col2\" class=\"data row1 col2\" >911692.845658</td>\n",
       "      <td id=\"T_1d206_row1_col3\" class=\"data row1 col3\" >931426.115600</td>\n",
       "      <td id=\"T_1d206_row1_col4\" class=\"data row1 col4\" >982773.864254</td>\n",
       "      <td id=\"T_1d206_row1_col5\" class=\"data row1 col5\" >1162668.163322</td>\n",
       "      <td id=\"T_1d206_row1_col6\" class=\"data row1 col6\" >0.000466</td>\n",
       "      <td id=\"T_1d206_row1_col7\" class=\"data row1 col7\" >0.000000</td>\n",
       "    </tr>\n",
       "    <tr>\n",
       "      <th id=\"T_1d206_level0_row2\" class=\"row_heading level0 row2\" >std</th>\n",
       "      <td id=\"T_1d206_row2_col0\" class=\"data row2 col0\" >3.731891</td>\n",
       "      <td id=\"T_1d206_row2_col1\" class=\"data row2 col1\" >272584.079811</td>\n",
       "      <td id=\"T_1d206_row2_col2\" class=\"data row2 col2\" >3016900.517869</td>\n",
       "      <td id=\"T_1d206_row2_col3\" class=\"data row2 col3\" >3054014.762081</td>\n",
       "      <td id=\"T_1d206_row2_col4\" class=\"data row2 col4\" >2336426.059350</td>\n",
       "      <td id=\"T_1d206_row2_col5\" class=\"data row2 col5\" >2510610.399728</td>\n",
       "      <td id=\"T_1d206_row2_col6\" class=\"data row2 col6\" >0.021582</td>\n",
       "      <td id=\"T_1d206_row2_col7\" class=\"data row2 col7\" >0.000000</td>\n",
       "    </tr>\n",
       "    <tr>\n",
       "      <th id=\"T_1d206_level0_row3\" class=\"row_heading level0 row3\" >min</th>\n",
       "      <td id=\"T_1d206_row3_col0\" class=\"data row3 col0\" >1.000000</td>\n",
       "      <td id=\"T_1d206_row3_col1\" class=\"data row3 col1\" >0.100000</td>\n",
       "      <td id=\"T_1d206_row3_col2\" class=\"data row3 col2\" >0.000000</td>\n",
       "      <td id=\"T_1d206_row3_col3\" class=\"data row3 col3\" >0.000000</td>\n",
       "      <td id=\"T_1d206_row3_col4\" class=\"data row3 col4\" >0.000000</td>\n",
       "      <td id=\"T_1d206_row3_col5\" class=\"data row3 col5\" >0.000000</td>\n",
       "      <td id=\"T_1d206_row3_col6\" class=\"data row3 col6\" >0.000000</td>\n",
       "      <td id=\"T_1d206_row3_col7\" class=\"data row3 col7\" >0.000000</td>\n",
       "    </tr>\n",
       "    <tr>\n",
       "      <th id=\"T_1d206_level0_row4\" class=\"row_heading level0 row4\" >25%</th>\n",
       "      <td id=\"T_1d206_row4_col0\" class=\"data row4 col0\" >11.000000</td>\n",
       "      <td id=\"T_1d206_row4_col1\" class=\"data row4 col1\" >13350.315000</td>\n",
       "      <td id=\"T_1d206_row4_col2\" class=\"data row4 col2\" >0.000000</td>\n",
       "      <td id=\"T_1d206_row4_col3\" class=\"data row4 col3\" >0.000000</td>\n",
       "      <td id=\"T_1d206_row4_col4\" class=\"data row4 col4\" >0.000000</td>\n",
       "      <td id=\"T_1d206_row4_col5\" class=\"data row4 col5\" >0.000000</td>\n",
       "      <td id=\"T_1d206_row4_col6\" class=\"data row4 col6\" >0.000000</td>\n",
       "      <td id=\"T_1d206_row4_col7\" class=\"data row4 col7\" >0.000000</td>\n",
       "    </tr>\n",
       "    <tr>\n",
       "      <th id=\"T_1d206_level0_row5\" class=\"row_heading level0 row5\" >50%</th>\n",
       "      <td id=\"T_1d206_row5_col0\" class=\"data row5 col0\" >14.000000</td>\n",
       "      <td id=\"T_1d206_row5_col1\" class=\"data row5 col1\" >81375.600000</td>\n",
       "      <td id=\"T_1d206_row5_col2\" class=\"data row5 col2\" >18569.000000</td>\n",
       "      <td id=\"T_1d206_row5_col3\" class=\"data row5 col3\" >0.000000</td>\n",
       "      <td id=\"T_1d206_row5_col4\" class=\"data row5 col4\" >119271.125000</td>\n",
       "      <td id=\"T_1d206_row5_col5\" class=\"data row5 col5\" >222144.150000</td>\n",
       "      <td id=\"T_1d206_row5_col6\" class=\"data row5 col6\" >0.000000</td>\n",
       "      <td id=\"T_1d206_row5_col7\" class=\"data row5 col7\" >0.000000</td>\n",
       "    </tr>\n",
       "    <tr>\n",
       "      <th id=\"T_1d206_level0_row6\" class=\"row_heading level0 row6\" >75%</th>\n",
       "      <td id=\"T_1d206_row6_col0\" class=\"data row6 col0\" >17.000000</td>\n",
       "      <td id=\"T_1d206_row6_col1\" class=\"data row6 col1\" >222644.100000</td>\n",
       "      <td id=\"T_1d206_row6_col2\" class=\"data row6 col2\" >170294.072500</td>\n",
       "      <td id=\"T_1d206_row6_col3\" class=\"data row6 col3\" >210171.597500</td>\n",
       "      <td id=\"T_1d206_row6_col4\" class=\"data row6 col4\" >896226.685000</td>\n",
       "      <td id=\"T_1d206_row6_col5\" class=\"data row6 col5\" >1201403.380000</td>\n",
       "      <td id=\"T_1d206_row6_col6\" class=\"data row6 col6\" >0.000000</td>\n",
       "      <td id=\"T_1d206_row6_col7\" class=\"data row6 col7\" >0.000000</td>\n",
       "    </tr>\n",
       "    <tr>\n",
       "      <th id=\"T_1d206_level0_row7\" class=\"row_heading level0 row7\" >max</th>\n",
       "      <td id=\"T_1d206_row7_col0\" class=\"data row7 col0\" >20.000000</td>\n",
       "      <td id=\"T_1d206_row7_col1\" class=\"data row7 col1\" >10000000.000000</td>\n",
       "      <td id=\"T_1d206_row7_col2\" class=\"data row7 col2\" >38939424.030000</td>\n",
       "      <td id=\"T_1d206_row7_col3\" class=\"data row7 col3\" >38946233.020000</td>\n",
       "      <td id=\"T_1d206_row7_col4\" class=\"data row7 col4\" >41482697.120000</td>\n",
       "      <td id=\"T_1d206_row7_col5\" class=\"data row7 col5\" >41482697.120000</td>\n",
       "      <td id=\"T_1d206_row7_col6\" class=\"data row7 col6\" >1.000000</td>\n",
       "      <td id=\"T_1d206_row7_col7\" class=\"data row7 col7\" >0.000000</td>\n",
       "    </tr>\n",
       "  </tbody>\n",
       "</table>\n"
      ],
      "text/plain": [
       "<pandas.io.formats.style.Styler at 0x6ff86eb0>"
      ]
     },
     "execution_count": 143,
     "metadata": {},
     "output_type": "execute_result"
    }
   ],
   "source": [
    "data.describe().style.background_gradient()"
   ]
  },
  {
   "cell_type": "code",
   "execution_count": 144,
   "id": "027cf2e2",
   "metadata": {},
   "outputs": [
    {
     "name": "stdout",
     "output_type": "stream",
     "text": [
      "<bound method NDFrame._add_numeric_operations.<locals>.any of 0         False\n",
      "1         False\n",
      "2         False\n",
      "3         False\n",
      "4         False\n",
      "          ...  \n",
      "499995    False\n",
      "499996    False\n",
      "499997    False\n",
      "499998    False\n",
      "499999    False\n",
      "Length: 500000, dtype: bool>\n",
      "Empty DataFrame\n",
      "Columns: [step, type, amount, nameOrig, oldbalanceOrg, newbalanceOrig, nameDest, oldbalanceDest, newbalanceDest, isFraud, isFlaggedFraud]\n",
      "Index: []\n"
     ]
    }
   ],
   "source": [
    "dups = data.duplicated()\n",
    "print(dups.any)\n",
    "print(data[dups])"
   ]
  },
  {
   "cell_type": "markdown",
   "id": "a965e3e2",
   "metadata": {},
   "source": [
    "# Data Visualization\n",
    "first let's see the type of transaction "
   ]
  },
  {
   "cell_type": "code",
   "execution_count": 145,
   "id": "76ec1dba",
   "metadata": {},
   "outputs": [
    {
     "data": {
      "text/plain": [
       "CASH_OUT    182316\n",
       "PAYMENT     164032\n",
       "CASH_IN     109319\n",
       "TRANSFER     40730\n",
       "DEBIT         3603\n",
       "Name: type, dtype: int64"
      ]
     },
     "execution_count": 145,
     "metadata": {},
     "output_type": "execute_result"
    }
   ],
   "source": [
    "data['type'].value_counts()"
   ]
  },
  {
   "cell_type": "code",
   "execution_count": 146,
   "id": "ab5d8b6a",
   "metadata": {},
   "outputs": [
    {
     "data": {
      "image/png": "[encoded data removed]",
      "text/plain": [
       "<Figure size 720x576 with 1 Axes>"
      ]
     },
     "metadata": {
      "needs_background": "light"
     },
     "output_type": "display_data"
    }
   ],
   "source": [
    "plt.figure(figsize=(10,8))\n",
    "ax = sns.countplot(data=data, x='type')\n",
    "for p in ax.patches:\n",
    "    ax.annotate(format(p.get_height(), '.0f'), (p.get_x()+p.get_width()/2., p.get_height()),\n",
    "               ha='center',\n",
    "               va='center',\n",
    "               xytext=(0,10),\n",
    "               textcoords='offset points')\n",
    "    sns.despine(right=True, top=True, left=True)\n",
    "    ax.axes.yaxis.set_visible(False)\n",
    "plt.title('Type Payment')\n",
    "plt.show()"
   ]
  },
  {
   "cell_type": "markdown",
   "id": "19aee927",
   "metadata": {},
   "source": [
    "Now let’s have a look at the data distribution and box plot of amount, oldbalanceOrg, newbalanceOrig "
   ]
  },
  {
   "cell_type": "code",
   "execution_count": 147,
   "id": "3f16f58f",
   "metadata": {},
   "outputs": [
    {
     "data": {
      "image/png": "[encoded data removed]",
      "text/plain": [
       "<Figure size 1080x1080 with 3 Axes>"
      ]
     },
     "metadata": {
      "needs_background": "light"
     },
     "output_type": "display_data"
    }
   ],
   "source": [
    "plot_data = ['amount', 'oldbalanceOrg', 'newbalanceOrig']\n",
    "plt.figure(figsize=(15, 15))\n",
    "for i, col in enumerate(plot_data):\n",
    "    plt.rcParams['axes.facecolor'] = 'black'\n",
    "    ax = plt.subplot(3,1, i+1)\n",
    "    sns.histplot(data=data, x=col, ax=ax, color='lightgreen', bins=10, kde=True)\n",
    "plt.suptitle('Data distribution of continuous variables', size=15)\n",
    "plt.tight_layout()"
   ]
  },
  {
   "cell_type": "code",
   "execution_count": 148,
   "id": "819280dc",
   "metadata": {},
   "outputs": [
    {
     "data": {
      "image/png": "[encoded data removed]",
      "text/plain": [
       "<Figure size 1296x1296 with 3 Axes>"
      ]
     },
     "metadata": {
      "needs_background": "light"
     },
     "output_type": "display_data"
    }
   ],
   "source": [
    "plt.figure(figsize=(18,18))\n",
    "for i, col in enumerate(plot_data):\n",
    "    plt.rcParams['axes.facecolor'] = 'black'\n",
    "    ax = plt.subplot(3,2, i+1)\n",
    "    sns.boxplot(data=data, x=col, ax=ax, color='purple')\n",
    "plt.suptitle('Box Plot of Continuous Variable')\n",
    "plt.tight_layout()\n",
    "plt.show()"
   ]
  },
  {
   "cell_type": "markdown",
   "id": "59022d89",
   "metadata": {},
   "source": [
    "# Treating Outlier"
   ]
  },
  {
   "cell_type": "markdown",
   "id": "e0d36ad5",
   "metadata": {},
   "source": [
    "we can see that our data is skew and have a lot outlier, let's remove them"
   ]
  },
  {
   "cell_type": "code",
   "execution_count": 149,
   "id": "e9f57009",
   "metadata": {},
   "outputs": [],
   "source": [
    "def outlier_treating(data, var):\n",
    "    data=data.copy()\n",
    "    def outlier_detector(data):\n",
    "        outliers = []\n",
    "        q1 = np.percentile(data, 25)\n",
    "        q3 = np.percentile(data, 75)\n",
    "        IQR = q3 - q1\n",
    "        ib = q1 - (IQR*1.5)\n",
    "        ub = q3 + (IQR*1.5)\n",
    "        for i, j in enumerate(data):\n",
    "            if (j < ib or j > ub):\n",
    "                outliers.append(i)\n",
    "        return outliers\n",
    "    for i in var:\n",
    "        out_var = outlier_detector(data[i])\n",
    "        data.loc[out_var, i] = np.median(data[i])\n",
    "    return data"
   ]
  },
  {
   "cell_type": "code",
   "execution_count": 150,
   "id": "81f1ed25",
   "metadata": {},
   "outputs": [],
   "source": [
    "var = list(data.select_dtypes(include=['float64']).columns)\n",
    "data = outlier_treating(data, var)"
   ]
  },
  {
   "cell_type": "markdown",
   "id": "0011a7e3",
   "metadata": {},
   "source": [
    "# Marking Invalid Data as Missing Value and Remove Them"
   ]
  },
  {
   "cell_type": "markdown",
   "id": "5a7e1afb",
   "metadata": {},
   "source": [
    "in oldbalanceOrg column there is 0 value, I think that value is invalid because we can't make a transaction if our balance is 0 or nothing, so let's mark them with NaN and remove them as missing value"
   ]
  },
  {
   "cell_type": "code",
   "execution_count": 151,
   "id": "b96a923c",
   "metadata": {},
   "outputs": [
    {
     "name": "stdout",
     "output_type": "stream",
     "text": [
      "step                   0\n",
      "type                   0\n",
      "amount                 0\n",
      "nameOrig               0\n",
      "oldbalanceOrg     162653\n",
      "newbalanceOrig         0\n",
      "nameDest               0\n",
      "oldbalanceDest         0\n",
      "newbalanceDest         0\n",
      "isFraud                0\n",
      "isFlaggedFraud         0\n",
      "dtype: int64\n"
     ]
    }
   ],
   "source": [
    "from numpy import NaN\n",
    "data['oldbalanceOrg'] = data['oldbalanceOrg'].replace(0, NaN)\n",
    "print(data.isnull().sum())"
   ]
  },
  {
   "cell_type": "code",
   "execution_count": 152,
   "id": "75202ece",
   "metadata": {},
   "outputs": [
    {
     "name": "stdout",
     "output_type": "stream",
     "text": [
      "step              0.00%\n",
      "type              0.00%\n",
      "amount            0.00%\n",
      "nameOrig          0.00%\n",
      "oldbalanceOrg    32.53%\n",
      "newbalanceOrig    0.00%\n",
      "nameDest          0.00%\n",
      "oldbalanceDest    0.00%\n",
      "newbalanceDest    0.00%\n",
      "isFraud           0.00%\n",
      "isFlaggedFraud    0.00%\n",
      "dtype: float64\n"
     ]
    }
   ],
   "source": [
    "pd.options.display.float_format='{:,.2f}%'.format\n",
    "print((data.isnull().sum()/len(data))*100)\n",
    "pd.options.display.float_format='{:,.2f}'.format"
   ]
  },
  {
   "cell_type": "code",
   "execution_count": 153,
   "id": "a4655233",
   "metadata": {},
   "outputs": [],
   "source": [
    "data.dropna(inplace=True)"
   ]
  },
  {
   "cell_type": "code",
   "execution_count": 154,
   "id": "7d6c0f55",
   "metadata": {},
   "outputs": [
    {
     "data": {
      "text/plain": [
       "(337347, 11)"
      ]
     },
     "execution_count": 154,
     "metadata": {},
     "output_type": "execute_result"
    }
   ],
   "source": [
    "data.shape"
   ]
  },
  {
   "cell_type": "code",
   "execution_count": 155,
   "id": "83839666",
   "metadata": {},
   "outputs": [
    {
     "data": {
      "image/png": "[encoded data removed]",
      "text/plain": [
       "<Figure size 1080x1080 with 3 Axes>"
      ]
     },
     "metadata": {
      "needs_background": "light"
     },
     "output_type": "display_data"
    }
   ],
   "source": [
    "plot_data = ['amount', 'oldbalanceOrg', 'newbalanceOrig']\n",
    "plt.figure(figsize=(15, 15))\n",
    "for i, col in enumerate(plot_data):\n",
    "    plt.rcParams['axes.facecolor'] = 'black'\n",
    "    ax = plt.subplot(3,1, i+1)\n",
    "    sns.histplot(data=data, x=col, ax=ax, color='yellow', bins=10, kde=True)\n",
    "plt.suptitle('Data distribution of continuous variables', size=15)\n",
    "plt.tight_layout()"
   ]
  },
  {
   "cell_type": "code",
   "execution_count": 156,
   "id": "be9cc1c3",
   "metadata": {},
   "outputs": [
    {
     "data": {
      "image/png": "[encoded data removed]",
      "text/plain": [
       "<Figure size 1296x1296 with 3 Axes>"
      ]
     },
     "metadata": {
      "needs_background": "light"
     },
     "output_type": "display_data"
    }
   ],
   "source": [
    "plt.figure(figsize=(18,18))\n",
    "for i, col in enumerate(plot_data):\n",
    "    plt.rcParams['axes.facecolor'] = 'black'\n",
    "    ax = plt.subplot(3,2, i+1)\n",
    "    sns.boxplot(data=data, x=col, ax=ax, color='violet')\n",
    "plt.suptitle('Box Plot of Continuous Variable')\n",
    "plt.tight_layout()\n",
    "plt.show()"
   ]
  },
  {
   "cell_type": "markdown",
   "id": "b568549a",
   "metadata": {},
   "source": [
    "although our data is still skew, but it's still better than before"
   ]
  },
  {
   "cell_type": "markdown",
   "id": "01d6a469",
   "metadata": {},
   "source": [
    "# Convert Categorical Data to Numerical Data"
   ]
  },
  {
   "cell_type": "markdown",
   "id": "97ed0389",
   "metadata": {},
   "source": [
    "Now let’s transform the categorical features into numerical. Here I will also transform the values of the isFraud column into No Fraud and Fraud labels to have a better understanding of the output:"
   ]
  },
  {
   "cell_type": "code",
   "execution_count": 157,
   "id": "b56e2c65",
   "metadata": {},
   "outputs": [
    {
     "data": {
      "text/html": [
       "<div>\n",
       "<style scoped>\n",
       "    .dataframe tbody tr th:only-of-type {\n",
       "        vertical-align: middle;\n",
       "    }\n",
       "\n",
       "    .dataframe tbody tr th {\n",
       "        vertical-align: top;\n",
       "    }\n",
       "\n",
       "    .dataframe thead th {\n",
       "        text-align: right;\n",
       "    }\n",
       "</style>\n",
       "<table border=\"1\" class=\"dataframe\">\n",
       "  <thead>\n",
       "    <tr style=\"text-align: right;\">\n",
       "      <th></th>\n",
       "      <th>step</th>\n",
       "      <th>type</th>\n",
       "      <th>amount</th>\n",
       "      <th>nameOrig</th>\n",
       "      <th>oldbalanceOrg</th>\n",
       "      <th>newbalanceOrig</th>\n",
       "      <th>nameDest</th>\n",
       "      <th>oldbalanceDest</th>\n",
       "      <th>newbalanceDest</th>\n",
       "      <th>isFraud</th>\n",
       "      <th>isFlaggedFraud</th>\n",
       "    </tr>\n",
       "  </thead>\n",
       "  <tbody>\n",
       "    <tr>\n",
       "      <th>0</th>\n",
       "      <td>1</td>\n",
       "      <td>2</td>\n",
       "      <td>9,839.64</td>\n",
       "      <td>C1231006815</td>\n",
       "      <td>170,136.00</td>\n",
       "      <td>160,296.36</td>\n",
       "      <td>M1979787155</td>\n",
       "      <td>0.00</td>\n",
       "      <td>0.00</td>\n",
       "      <td>NO FRAUD</td>\n",
       "      <td>0</td>\n",
       "    </tr>\n",
       "    <tr>\n",
       "      <th>1</th>\n",
       "      <td>1</td>\n",
       "      <td>2</td>\n",
       "      <td>1,864.28</td>\n",
       "      <td>C1666544295</td>\n",
       "      <td>21,249.00</td>\n",
       "      <td>19,384.72</td>\n",
       "      <td>M2044282225</td>\n",
       "      <td>0.00</td>\n",
       "      <td>0.00</td>\n",
       "      <td>NO FRAUD</td>\n",
       "      <td>0</td>\n",
       "    </tr>\n",
       "    <tr>\n",
       "      <th>2</th>\n",
       "      <td>1</td>\n",
       "      <td>4</td>\n",
       "      <td>181.00</td>\n",
       "      <td>C1305486145</td>\n",
       "      <td>181.00</td>\n",
       "      <td>0.00</td>\n",
       "      <td>C553264065</td>\n",
       "      <td>0.00</td>\n",
       "      <td>0.00</td>\n",
       "      <td>FRAUD</td>\n",
       "      <td>0</td>\n",
       "    </tr>\n",
       "    <tr>\n",
       "      <th>3</th>\n",
       "      <td>1</td>\n",
       "      <td>1</td>\n",
       "      <td>181.00</td>\n",
       "      <td>C840083671</td>\n",
       "      <td>181.00</td>\n",
       "      <td>0.00</td>\n",
       "      <td>C38997010</td>\n",
       "      <td>21,182.00</td>\n",
       "      <td>0.00</td>\n",
       "      <td>FRAUD</td>\n",
       "      <td>0</td>\n",
       "    </tr>\n",
       "    <tr>\n",
       "      <th>4</th>\n",
       "      <td>1</td>\n",
       "      <td>2</td>\n",
       "      <td>11,668.14</td>\n",
       "      <td>C2048537720</td>\n",
       "      <td>41,554.00</td>\n",
       "      <td>29,885.86</td>\n",
       "      <td>M1230701703</td>\n",
       "      <td>0.00</td>\n",
       "      <td>0.00</td>\n",
       "      <td>NO FRAUD</td>\n",
       "      <td>0</td>\n",
       "    </tr>\n",
       "  </tbody>\n",
       "</table>\n",
       "</div>"
      ],
      "text/plain": [
       "   step  type    amount     nameOrig  oldbalanceOrg  newbalanceOrig  \\\n",
       "0     1     2  9,839.64  C1231006815     170,136.00      160,296.36   \n",
       "1     1     2  1,864.28  C1666544295      21,249.00       19,384.72   \n",
       "2     1     4    181.00  C1305486145         181.00            0.00   \n",
       "3     1     1    181.00   C840083671         181.00            0.00   \n",
       "4     1     2 11,668.14  C2048537720      41,554.00       29,885.86   \n",
       "\n",
       "      nameDest  oldbalanceDest  newbalanceDest   isFraud  isFlaggedFraud  \n",
       "0  M1979787155            0.00            0.00  NO FRAUD               0  \n",
       "1  M2044282225            0.00            0.00  NO FRAUD               0  \n",
       "2   C553264065            0.00            0.00     FRAUD               0  \n",
       "3    C38997010       21,182.00            0.00     FRAUD               0  \n",
       "4  M1230701703            0.00            0.00  NO FRAUD               0  "
      ]
     },
     "execution_count": 157,
     "metadata": {},
     "output_type": "execute_result"
    }
   ],
   "source": [
    "data[\"type\"] = data[\"type\"].map({\"CASH_OUT\" : 1, \"PAYMENT\": 2, \"CASH_IN\": 3, \"TRANSFER\": 4, \"DEBIT\": 5})\n",
    "data[\"isFraud\"] = data[\"isFraud\"].map({0: \"NO FRAUD\", 1: \"FRAUD\"})\n",
    "data.head()"
   ]
  },
  {
   "cell_type": "markdown",
   "id": "75f8ce54",
   "metadata": {},
   "source": [
    "# Imbalaced Target Class\n",
    "Imbalanced data refers to those types of datasets where the target class has an uneven distribution of observations, i.e one class label has a very high number of observations and the other has a very low number of observations. We can see that our dataset highly imbalaced data, class 'No Fraud' have more data than class 'Fraud'"
   ]
  },
  {
   "cell_type": "code",
   "execution_count": 159,
   "id": "4059c98f",
   "metadata": {},
   "outputs": [
    {
     "data": {
      "image/png": "[encoded data removed]",
      "text/plain": [
       "<Figure size 576x360 with 1 Axes>"
      ]
     },
     "metadata": {},
     "output_type": "display_data"
    }
   ],
   "source": [
    "fig = plt.figure(figsize=(8,5))\n",
    "ax = fig.add_axes([0,0,1,1])\n",
    "ax.axis('equal')\n",
    "labels = ['No Fraud', 'Fraud']\n",
    "target = data.isFraud.value_counts()\n",
    "ax.pie(target, labels=labels, autopct='%.0f%%')\n",
    "plt.show()"
   ]
  },
  {
   "cell_type": "markdown",
   "id": "e1bed2c0",
   "metadata": {},
   "source": [
    "# Split Dataset"
   ]
  },
  {
   "cell_type": "code",
   "execution_count": 160,
   "id": "33a21d81",
   "metadata": {},
   "outputs": [],
   "source": [
    "x = np.array(data[['type', 'amount', 'oldbalanceOrg', 'newbalanceOrig']])\n",
    "y = np.array(data[['isFraud']])\n",
    "xtrain, xtest, ytrain, ytest = train_test_split(x,y,test_size=0.2,random_state=42)"
   ]
  },
  {
   "cell_type": "markdown",
   "id": "72b7d4fd",
   "metadata": {},
   "source": [
    "# Treating Outlier With Automatic Outlier Detection"
   ]
  },
  {
   "cell_type": "code",
   "execution_count": 161,
   "id": "c542c624",
   "metadata": {},
   "outputs": [],
   "source": [
    "from sklearn.neighbors import LocalOutlierFactor\n",
    "lof = LocalOutlierFactor()\n",
    "yhat = lof.fit_predict(xtrain)\n",
    "mask = yhat != -1\n",
    "xtrain, ytrain = xtrain[mask,:], ytrain[mask]"
   ]
  },
  {
   "cell_type": "markdown",
   "id": "1ab705a8",
   "metadata": {},
   "source": [
    "# Treating Imbalaced Target Class"
   ]
  },
  {
   "cell_type": "code",
   "execution_count": 162,
   "id": "be2c18ca",
   "metadata": {},
   "outputs": [],
   "source": [
    "from imblearn.over_sampling import SMOTE\n",
    "sm = SMOTE(sampling_strategy='auto', random_state=42)\n",
    "x_train,y_train = sm.fit_resample(xtrain,ytrain)"
   ]
  },
  {
   "cell_type": "code",
   "execution_count": 163,
   "id": "f5150aab",
   "metadata": {},
   "outputs": [
    {
     "data": {
      "text/plain": [
       "NO FRAUD    266381\n",
       "FRAUD       266381\n",
       "dtype: int64"
      ]
     },
     "execution_count": 163,
     "metadata": {},
     "output_type": "execute_result"
    }
   ],
   "source": [
    "s = pd.Series(data=y_train)\n",
    "s.value_counts()"
   ]
  },
  {
   "cell_type": "markdown",
   "id": "6089d2f9",
   "metadata": {},
   "source": [
    "# Modelling and Evaluation"
   ]
  },
  {
   "cell_type": "code",
   "execution_count": 164,
   "id": "23e10128",
   "metadata": {},
   "outputs": [
    {
     "name": "stdout",
     "output_type": "stream",
     "text": [
      "Training Accuracy :  0.9986785844335745\n",
      "Test Accuracy:  0.9932266192381799\n"
     ]
    }
   ],
   "source": [
    "model=DecisionTreeClassifier()\n",
    "model.fit(x_train, y_train)\n",
    "y_pred = model.predict(xtest)\n",
    "print('Training Accuracy : ', model.score(x_train, y_train))\n",
    "print('Test Accuracy: ', model.score(xtest, ytest))"
   ]
  },
  {
   "cell_type": "code",
   "execution_count": 165,
   "id": "60b25206",
   "metadata": {},
   "outputs": [
    {
     "name": "stdout",
     "output_type": "stream",
     "text": [
      "Confusion matrix: \n",
      "\n",
      "[[   32    11]\n",
      " [  446 66981]]\n"
     ]
    }
   ],
   "source": [
    "from sklearn.metrics import confusion_matrix, classification_report\n",
    "print('Confusion matrix: \\n')\n",
    "cm = confusion_matrix(ytest, y_pred)\n",
    "print(cm)"
   ]
  },
  {
   "cell_type": "code",
   "execution_count": 166,
   "id": "c9c883e6",
   "metadata": {},
   "outputs": [
    {
     "name": "stdout",
     "output_type": "stream",
     "text": [
      "classidication report \n",
      "\n",
      "              precision    recall  f1-score   support\n",
      "\n",
      "       FRAUD       0.07      0.74      0.12        43\n",
      "    NO FRAUD       1.00      0.99      1.00     67427\n",
      "\n",
      "    accuracy                           0.99     67470\n",
      "   macro avg       0.53      0.87      0.56     67470\n",
      "weighted avg       1.00      0.99      1.00     67470\n",
      "\n"
     ]
    }
   ],
   "source": [
    "print('classidication report \\n')\n",
    "print(classification_report(ytest, y_pred))"
   ]
  },
  {
   "cell_type": "markdown",
   "id": "ed0f0004",
   "metadata": {},
   "source": [
    "Now let’s classify whether a transaction is a fraud or not by feeding about a transaction into the model"
   ]
  },
  {
   "cell_type": "code",
   "execution_count": 167,
   "id": "c129ce0e",
   "metadata": {},
   "outputs": [
    {
     "name": "stdout",
     "output_type": "stream",
     "text": [
      "Enter Transactions Details to konw whether that fraud or not\n",
      "Enter the type of transactions (1 = CASH OUT, 2 = PAYMENT, 3 = CASH IN, 4 = TRANSFER, 5 = DEBIT):4\n",
      "Enter amount of that trasanctions: 181\n",
      "Enter Balance before transaction: 181\n",
      "Enter Balance after transaction: 0\n",
      "Transactions is  ['FRAUD']\n"
     ]
    }
   ],
   "source": [
    "print('Enter Transactions Details to konw whether that fraud or not')\n",
    "a = int(input('Enter the type of transactions (1 = CASH OUT, 2 = PAYMENT, 3 = CASH IN, 4 = TRANSFER, 5 = DEBIT):'))\n",
    "b = int(input('Enter amount of that trasanctions: '))\n",
    "c = int(input('Enter Balance before transaction: '))\n",
    "d = int(input('Enter Balance after transaction: '))\n",
    "features = np.array([[a,b,c,d]])\n",
    "print('Transactions is ', model.predict(features))"
   ]
  }
 ],
 "metadata": {
  "kernelspec": {
   "display_name": "Python 3 (ipykernel)",
   "language": "python",
   "name": "python3"
  },
  "language_info": {
   "codemirror_mode": {
    "name": "ipython",
    "version": 3
   },
   "file_extension": ".py",
   "mimetype": "text/x-python",
   "name": "python",
   "nbconvert_exporter": "python",
   "pygments_lexer": "ipython3",
   "version": "3.8.13"
  }
 },
 "nbformat": 4,
 "nbformat_minor": 5
}
